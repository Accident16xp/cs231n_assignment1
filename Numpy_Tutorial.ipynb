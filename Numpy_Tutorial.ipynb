{
 "cells": [
  {
   "cell_type": "code",
   "execution_count": 2,
   "metadata": {},
   "outputs": [
    {
     "name": "stdout",
     "output_type": "stream",
     "text": [
      "#1:cat\n",
      "#2:dog\n",
      "#3:fish\n"
     ]
    }
   ],
   "source": [
    "#enumerate function，将输出按照一个序列标记出来\n",
    "animals=['cat','dog','fish']\n",
    "for idx,animal in enumerate(animals):\n",
    "    print('#%d:%s' %(idx+1,animal))\n",
    "#此处的%d表示格式化为 %s表示格式化为字符串类型"
   ]
  },
  {
   "cell_type": "code",
   "execution_count": 4,
   "metadata": {},
   "outputs": [
    {
     "name": "stdout",
     "output_type": "stream",
     "text": [
      "[0, 1, 4, 9, 16]\n",
      "[0, 4, 16]\n"
     ]
    }
   ],
   "source": [
    "#list 表示法\n",
    "nums=[0,1,2,3,4]\n",
    "squares=[x**2 for x in nums]\n",
    "print(squares)\n",
    "even_squares=[x**2 for x in nums if x%2 ==0]\n",
    "print(even_squares)"
   ]
  },
  {
   "cell_type": "code",
   "execution_count": 7,
   "metadata": {},
   "outputs": [
    {
     "name": "stdout",
     "output_type": "stream",
     "text": [
      "cute\n",
      "True\n",
      "wet\n",
      "N/A\n",
      "N/A\n"
     ]
    }
   ],
   "source": [
    "#dictinary 用法\n",
    "d={'cat':'cute','dog':'furry'}\n",
    "print(d['cat'])\n",
    "print('cat' in d)\n",
    "d['fish']='wet'\n",
    "print(d['fish'])\n",
    "print(d.get('moneky','N/A'))\n",
    "print (d.get('fist','N/A'))"
   ]
  },
  {
   "cell_type": "code",
   "execution_count": 8,
   "metadata": {},
   "outputs": [
    {
     "name": "stdout",
     "output_type": "stream",
     "text": [
      "-\n",
      "0\n",
      "+\n"
     ]
    }
   ],
   "source": [
    "#functions 注意要使用elif\n",
    "def sign(x):\n",
    "    if x>0:\n",
    "        return \"+\"\n",
    "    elif x<0:\n",
    "        return \"-\"\n",
    "    else:\n",
    "        return \"0\"\n",
    "    \n",
    "for x in [-1,0,1]:\n",
    "    print (sign(x))"
   ]
  },
  {
   "cell_type": "code",
   "execution_count": 11,
   "metadata": {},
   "outputs": [
    {
     "name": "stdout",
     "output_type": "stream",
     "text": [
      "Hello, Fred\n",
      "Hello, FRED!\n"
     ]
    }
   ],
   "source": [
    "#class的应用\n",
    "class Greeter(object):\n",
    "    def __init__(self,name):\n",
    "        self.name=name\n",
    "    #初始化self的属性\n",
    "\n",
    "    def greet(self,loud=False):\n",
    "        if loud:\n",
    "            print('Hello, %s!' % self.name.upper())\n",
    "        else:\n",
    "            print('Hello, %s' % self.name)\n",
    "g=Greeter('Fred')\n",
    "g.greet()\n",
    "g.greet(loud=True)                "
   ]
  },
  {
   "cell_type": "code",
   "execution_count": 18,
   "metadata": {},
   "outputs": [
    {
     "name": "stdout",
     "output_type": "stream",
     "text": [
      "<class 'numpy.ndarray'>\n",
      "(3,)\n",
      "3\n",
      "[1 2 3]\n",
      "(2, 3)\n",
      "[[1 2 3]\n",
      " [4 5 6]]\n"
     ]
    }
   ],
   "source": [
    "#array部分\n",
    "import numpy as np\n",
    "a=np.array([1,2,3])\n",
    "print(type(a))\n",
    "print(a.shape)\n",
    "#print (a.shape[0],a.shape[1])\n",
    "#试错，以为数组的shape只有一个量，即为（列数，）这种形式\n",
    "print (a.shape[0])\n",
    "print(a)\n",
    "b=np.array([[1,2,3],[4,5,6]])\n",
    "#数组的最外围的框要用[ ]来表示\n",
    "print(b.shape)\n",
    "print(b)\n"
   ]
  },
  {
   "cell_type": "code",
   "execution_count": 29,
   "metadata": {},
   "outputs": [
    {
     "name": "stdout",
     "output_type": "stream",
     "text": [
      "[[0. 0.]\n",
      " [0. 0.]]\n",
      "[[1. 1.]]\n",
      "[[7 7]\n",
      " [7 7]]\n",
      "[[1. 0.]\n",
      " [0. 1.]]\n",
      "[[0.75412154 0.98850101]\n",
      " [0.00839193 0.71427945]]\n"
     ]
    }
   ],
   "source": [
    "#一些已有的创建数组的命令\n",
    "import numpy as np\n",
    "\n",
    "a=np.zeros((2,2))#创造一个2*2的0数组\n",
    "print(a)\n",
    "\n",
    "b=np.ones((1,2))#1*2的全1数组\n",
    "print(b)\n",
    "\n",
    "c=np.full((2,2),7)#全为某个元素的矩阵\n",
    "print(c)\n",
    "\n",
    "d=np.eye(2)#eye即I，单位矩阵\n",
    "print(d)\n",
    "\n",
    "e=np.random.random((2,2))\n",
    "#注意radom当中还有很多其他函数，想使用随机功能的时候，调用的是\n",
    "#random.random，不只是random\n",
    "print (e)"
   ]
  },
  {
   "cell_type": "code",
   "execution_count": 31,
   "metadata": {},
   "outputs": [
    {
     "name": "stdout",
     "output_type": "stream",
     "text": [
      "77\n"
     ]
    }
   ],
   "source": [
    "#array indexing\n",
    "#切割or取定长的数列\n",
    "import numpy as np\n",
    "a = np.array([[1,2,3,4], [5,6,7,8], [9,10,11,12]])\n",
    "b = a[:2, 1:3]\n",
    "b[0, 0] = 77  \n",
    "#注意***，b写作a的一个切片时候，指向的也完全是a中的数据，\n",
    "#改变b的值时候，a的值也同样会改变\n",
    "print(a[0, 1]) "
   ]
  },
  {
   "cell_type": "code",
   "execution_count": 33,
   "metadata": {},
   "outputs": [
    {
     "name": "stdout",
     "output_type": "stream",
     "text": [
      "[5 6 7 8] (4,)\n",
      "[[5 6 7 8]] (1, 4)\n",
      "[ 2  6 10] (3,)\n",
      "[[ 2]\n",
      " [ 6]\n",
      " [10]] (3, 1)\n"
     ]
    }
   ],
   "source": [
    "import numpy as np\n",
    "\n",
    "a = np.array([[1,2,3,4], [5,6,7,8], [9,10,11,12]])\n",
    "\n",
    "\n",
    "row_r1 = a[1, :]    \n",
    "row_r2 = a[1:2, :] \n",
    "#写成a：b形式的时候，实际上取的是后者b那一列/行\n",
    "print(row_r1, row_r1.shape)  \n",
    "print(row_r2, row_r2.shape)  \n",
    "\n",
    "col_r1 = a[:, 1]\n",
    "col_r2 = a[:, 1:2]\n",
    "print(col_r1, col_r1.shape) \n",
    "print(col_r2, col_r2.shape) \n",
    "#由结果可以看出，取出单行或者单列的时候，shape都是（a,)\n",
    "#a为列或者行的维数"
   ]
  },
  {
   "cell_type": "code",
   "execution_count": 34,
   "metadata": {},
   "outputs": [
    {
     "name": "stdout",
     "output_type": "stream",
     "text": [
      "[1 4 5]\n",
      "[1 4 5]\n",
      "[2 2]\n",
      "[2 2]\n"
     ]
    }
   ],
   "source": [
    "#利用下标进行输出\n",
    "import numpy as np\n",
    "\n",
    "a = np.array([[1,2], [3, 4], [5, 6]])\n",
    "#原本的a是一个3*2的数组\n",
    "print(a[[0, 1, 2], [0, 1, 0]]) \n",
    "\n",
    "print(np.array([a[0, 0], a[1, 1], a[2, 0]]))  \n",
    "#具体给出了待选的元素\n",
    "#注意 这两个输出所表示的含义相同\n",
    "\n",
    "print(a[[0, 0], [1, 1]]) \n",
    "\n",
    "\n",
    "print(np.array([a[0, 1], a[0, 1]])) \n",
    "#总结一下，当写作a[[],[]]的时候，两个[]中\n",
    "#分别存放的是行下边和列下标，用来定位待选取的元素"
   ]
  },
  {
   "cell_type": "code",
   "execution_count": 35,
   "metadata": {},
   "outputs": [
    {
     "name": "stdout",
     "output_type": "stream",
     "text": [
      "[[ 1  2  3]\n",
      " [ 4  5  6]\n",
      " [ 7  8  9]\n",
      " [10 11 12]]\n",
      "[ 1  6  7 11]\n",
      "[[11  2  3]\n",
      " [ 4  5 16]\n",
      " [17  8  9]\n",
      " [10 21 12]]\n"
     ]
    }
   ],
   "source": [
    "import numpy as np\n",
    "\n",
    "\n",
    "a = np.array([[1,2,3], [4,5,6], [7,8,9], [10, 11, 12]])\n",
    "print(a)\n",
    "b = np.array([0, 2, 0, 1])\n",
    "print(a[np.arange(4), b])\n",
    "#意思为，用b中的元素来做下标，从a的每一行都选出一个元素\n",
    "a[np.arange(4), b] += 10\n",
    "#将所选的元素+10并且直接改变的是a\n",
    "print(a)  "
   ]
  },
  {
   "cell_type": "code",
   "execution_count": 36,
   "metadata": {},
   "outputs": [
    {
     "name": "stdout",
     "output_type": "stream",
     "text": [
      "[3 4 5 6]\n",
      "[3 4 5 6]\n"
     ]
    }
   ],
   "source": [
    "#布尔型下标缩影\n",
    "import numpy as np\n",
    "\n",
    "a = np.array([[1,2], [3, 4], [5, 6]])\n",
    "bool_idx = (a > 2) \n",
    "#直接存放的是整个index\n",
    "print(a[bool_idx]) \n",
    "print(a[a > 2])     "
   ]
  },
  {
   "cell_type": "code",
   "execution_count": 45,
   "metadata": {},
   "outputs": [
    {
     "name": "stdout",
     "output_type": "stream",
     "text": [
      "int32\n",
      "float64\n",
      "int64\n"
     ]
    }
   ],
   "source": [
    "#不同类型的数据\n",
    "import numpy as np\n",
    "x = np.array([1, 2])   \n",
    "print(x.dtype)         \n",
    "\n",
    "x = np.array([1.0, 2.0])   \n",
    "print(x.dtype)            \n",
    "\n",
    "x = np.array([1, 2], dtype=np.int64)   \n",
    "#固定了形式\n",
    "print(x.dtype)     \n",
    "\n"
   ]
  },
  {
   "cell_type": "code",
   "execution_count": 49,
   "metadata": {},
   "outputs": [
    {
     "name": "stdout",
     "output_type": "stream",
     "text": [
      "[[ 6.  8.]\n",
      " [10. 12.]]\n",
      "[[ 6.  8.]\n",
      " [10. 12.]]\n",
      "[[-4. -4.]\n",
      " [-4. -4.]]\n",
      "[[-4. -4.]\n",
      " [-4. -4.]]\n",
      "[[ 5. 12.]\n",
      " [21. 32.]]\n",
      "[[ 5. 12.]\n",
      " [21. 32.]]\n",
      "[[0.2        0.33333333]\n",
      " [0.42857143 0.5       ]]\n",
      "[[0.2        0.33333333]\n",
      " [0.42857143 0.5       ]]\n",
      "[[1.         1.41421356]\n",
      " [1.73205081 2.        ]]\n"
     ]
    }
   ],
   "source": [
    "#数组数学部分\n",
    "import numpy as np\n",
    "\n",
    "x = np.array([[1,2],[3,4]], dtype=np.float64)\n",
    "y = np.array([[5,6],[7,8]], dtype=np.float64)\n",
    "print(x + y)\n",
    "print(np.add(x, y))\n",
    "\n",
    "\n",
    "print(x - y)\n",
    "print(np.subtract(x, y))\n",
    "\n",
    "\n",
    "print(x * y)\n",
    "print(np.multiply(x, y))\n",
    "\n",
    "\n",
    "print(x / y)\n",
    "print(np.divide(x, y))\n",
    "\n",
    "print(np.sqrt(x))\n"
   ]
  },
  {
   "cell_type": "code",
   "execution_count": 51,
   "metadata": {},
   "outputs": [
    {
     "name": "stdout",
     "output_type": "stream",
     "text": [
      "219\n",
      "219\n",
      "[29 67]\n",
      "[29 67]\n",
      "[[19 22]\n",
      " [43 50]]\n",
      "[[19 22]\n",
      " [43 50]]\n"
     ]
    }
   ],
   "source": [
    "import numpy as np\n",
    "\n",
    "x = np.array([[1,2],[3,4]])\n",
    "y = np.array([[5,6],[7,8]])\n",
    "\n",
    "v = np.array([9,10])\n",
    "w = np.array([11, 12])\n",
    "\n",
    "\n",
    "\n",
    "print(v.dot(w))\n",
    "print(np.dot(v, w))\n",
    "#对于向量来说，.dot为做向量内积\n",
    "\n",
    "\n",
    "print(x.dot(v))\n",
    "print(np.dot(x, v))\n",
    "#矩阵和向量的乘积\n",
    "\n",
    "\n",
    "print(x.dot(y))\n",
    "print(np.dot(x, y))\n",
    "#矩阵和矩阵的乘积"
   ]
  },
  {
   "cell_type": "code",
   "execution_count": 53,
   "metadata": {},
   "outputs": [
    {
     "name": "stdout",
     "output_type": "stream",
     "text": [
      "10\n",
      "[4 6]\n",
      "[3 7]\n"
     ]
    }
   ],
   "source": [
    "#非常有用的sum函数***\n",
    "import numpy as np\n",
    "\n",
    "x = np.array([[1,2],[3,4]])\n",
    "\n",
    "print(np.sum(x))  \n",
    "print(np.sum(x, axis=0))  \n",
    "print(np.sum(x, axis=1)) \n",
    "#.sum：所有元素想加\n",
    "#.sum(axis=0,按列相加)\n",
    "#.sum(axis=1,按行相加)"
   ]
  },
  {
   "cell_type": "code",
   "execution_count": 54,
   "metadata": {},
   "outputs": [
    {
     "name": "stdout",
     "output_type": "stream",
     "text": [
      "[[1 2]\n",
      " [3 4]]\n",
      "[[1 3]\n",
      " [2 4]]\n",
      "[1 2 3]\n",
      "[1 2 3]\n"
     ]
    }
   ],
   "source": [
    "#转置\n",
    "import numpy as np\n",
    "\n",
    "x = np.array([[1,2], [3,4]])\n",
    "print(x)    \n",
    "print(x.T)  \n",
    "\n",
    "\n",
    "v = np.array([1,2,3])\n",
    "print(v)   \n",
    "print(v.T) \n",
    "#对1维的数组做转置是不会发生变化的"
   ]
  },
  {
   "cell_type": "code",
   "execution_count": 55,
   "metadata": {},
   "outputs": [
    {
     "name": "stdout",
     "output_type": "stream",
     "text": [
      "[[ 2  2  4]\n",
      " [ 5  5  7]\n",
      " [ 8  8 10]\n",
      " [11 11 13]]\n"
     ]
    }
   ],
   "source": [
    "#非常重要的广播机制：\n",
    "import numpy as np\n",
    "\n",
    "x = np.array([[1,2,3], [4,5,6], [7,8,9], [10, 11, 12]])\n",
    "v = np.array([1, 0, 1])\n",
    "y = np.empty_like(x)   \n",
    "\n",
    "#x是一个4*3的数组\n",
    "#v是一个1*3的数组\n",
    "#y是一个和x一样的4*3的空数组\n",
    "\n",
    "\n",
    "for i in range(4):\n",
    "    y[i, :] = x[i, :] + v\n",
    "    #将v加到x的每一行，并赋值给y\n",
    "\n",
    "\n",
    "print(y)"
   ]
  },
  {
   "cell_type": "code",
   "execution_count": 57,
   "metadata": {},
   "outputs": [
    {
     "name": "stdout",
     "output_type": "stream",
     "text": [
      "[[1 0 1]\n",
      " [1 0 1]\n",
      " [1 0 1]\n",
      " [1 0 1]]\n",
      "[[ 2  2  4]\n",
      " [ 5  5  7]\n",
      " [ 8  8 10]\n",
      " [11 11 13]]\n"
     ]
    }
   ],
   "source": [
    "#接上面的引入广播机制，当矩阵很大时，做循环会很慢，所有了广播\n",
    "import numpy as np\n",
    "\n",
    "x = np.array([[1,2,3], [4,5,6], [7,8,9], [10, 11, 12]])\n",
    "v = np.array([1, 0, 1])\n",
    "vv = np.tile(v, (4, 1)) \n",
    "#意为将v堆叠起来 每一行都是一个v\n",
    "print(vv)  \n",
    "\n",
    "y = x + vv \n",
    "print(y)  "
   ]
  },
  {
   "cell_type": "code",
   "execution_count": 58,
   "metadata": {},
   "outputs": [
    {
     "name": "stdout",
     "output_type": "stream",
     "text": [
      "[[ 2  2  4]\n",
      " [ 5  5  7]\n",
      " [ 8  8 10]\n",
      " [11 11 13]]\n"
     ]
    }
   ],
   "source": [
    "#真正的broadcast\n",
    "import numpy as np\n",
    "\n",
    "x = np.array([[1,2,3], [4,5,6], [7,8,9], [10, 11, 12]])\n",
    "v = np.array([1, 0, 1])\n",
    "y = x + v \n",
    "print(y)  "
   ]
  },
  {
   "cell_type": "code",
   "execution_count": 59,
   "metadata": {},
   "outputs": [
    {
     "name": "stdout",
     "output_type": "stream",
     "text": [
      "[[ 4  5]\n",
      " [ 8 10]\n",
      " [12 15]]\n",
      "[[2 4 6]\n",
      " [5 7 9]]\n",
      "[[ 5  6  7]\n",
      " [ 9 10 11]]\n",
      "[[ 5  6  7]\n",
      " [ 9 10 11]]\n",
      "[[ 2  4  6]\n",
      " [ 8 10 12]]\n"
     ]
    }
   ],
   "source": [
    "#broadcast的一些应用\n",
    "import numpy as np\n",
    "\n",
    "\n",
    "v = np.array([1,2,3])  # v 的shape为 (3,)\n",
    "w = np.array([4,5])    # w 的shape为(2,)\n",
    "\n",
    "print(np.reshape(v, (3, 1)) * w)\n",
    "\n",
    "\n",
    "x = np.array([[1,2,3], [4,5,6]])\n",
    "#将v加到每一行\n",
    "print(x + v)\n",
    "\n",
    "\n",
    "print((x.T + w).T)\n",
    "\n",
    "print(x + np.reshape(w, (2, 1)))\n",
    "\n",
    "\n",
    "print(x * 2)"
   ]
  },
  {
   "cell_type": "code",
   "execution_count": null,
   "metadata": {},
   "outputs": [],
   "source": []
  }
 ],
 "metadata": {
  "kernelspec": {
   "display_name": "Python 3",
   "language": "python",
   "name": "python3"
  },
  "language_info": {
   "codemirror_mode": {
    "name": "ipython",
    "version": 3
   },
   "file_extension": ".py",
   "mimetype": "text/x-python",
   "name": "python",
   "nbconvert_exporter": "python",
   "pygments_lexer": "ipython3",
   "version": "3.7.11"
  }
 },
 "nbformat": 4,
 "nbformat_minor": 2
}
